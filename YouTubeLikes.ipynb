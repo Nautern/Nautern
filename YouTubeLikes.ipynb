{
 "cells": [
  {
   "cell_type": "code",
   "execution_count": 8,
   "metadata": {},
   "outputs": [],
   "source": [
    "from selenium import webdriver\n",
    "import time\n",
    "from selenium.webdriver.common.action_chains import ActionChains"
   ]
  },
  {
   "cell_type": "code",
   "execution_count": 11,
   "metadata": {},
   "outputs": [],
   "source": [
    "\n",
    "\n",
    "# create a new Chrome session\n",
    "driver = webdriver.Chrome(executable_path='C:\\\\Users\\\\canne\\\\Documents\\\\ML\\\\review_Analytics\\\\chromedriver.exe')\n",
    "driver.implicitly_wait(30)\n",
    "driver.maximize_window()\n",
    "\n",
    "# navigate to the application home page\n",
    "driver.get(\"https://accounts.google.com/\")\n",
    "\n",
    "#get the username textbox\n",
    "login_field = driver.find_element_by_name(\"identifier\")\n",
    "login_field.clear()\n",
    "\n",
    "#enter username\n",
    "login_field.send_keys(\"user100120191800@gmail.com\")\n",
    "login_field.send_keys(u'\\ue007') #unicode for enter key\n",
    "time.sleep(2)\n",
    "\n",
    "#get the password textbox\n",
    "password_field = driver.find_element_by_name(\"password\")\n",
    "password_field.clear()\n",
    "\n",
    "#enter password\n",
    "password_field.send_keys(\"chaitu3asp\")\n",
    "password_field.send_keys(u'\\ue007') #unicode for enter key\n",
    "time.sleep(10)\n",
    "\n",
    "#navigate to gmail\n",
    "driver.get(\"https://mail.google.com/\")\n",
    "time.sleep(5)\n",
    "driver.get(\"https://www.youtube.com/watch?v=ZC5mgrfKw-s\")\n",
    "\n",
    "likebutton = driver.find_element_by_xpath(\"//*[@id='top-level-buttons']/ytd-toggle-button-renderer[1]/a\");\n",
    "\n",
    "#likebutton.click()\n",
    "ActionChains(driver).move_to_element(likebutton).click(likebutton).perform()"
   ]
  },
  {
   "cell_type": "code",
   "execution_count": null,
   "metadata": {},
   "outputs": [],
   "source": []
  },
  {
   "cell_type": "code",
   "execution_count": null,
   "metadata": {},
   "outputs": [],
   "source": []
  },
  {
   "cell_type": "code",
   "execution_count": null,
   "metadata": {},
   "outputs": [],
   "source": []
  },
  {
   "cell_type": "code",
   "execution_count": null,
   "metadata": {},
   "outputs": [],
   "source": []
  },
  {
   "cell_type": "code",
   "execution_count": null,
   "metadata": {},
   "outputs": [],
   "source": []
  }
 ],
 "metadata": {
  "kernelspec": {
   "display_name": "Python (mlenv)",
   "language": "python",
   "name": "mlenv"
  },
  "language_info": {
   "codemirror_mode": {
    "name": "ipython",
    "version": 3
   },
   "file_extension": ".py",
   "mimetype": "text/x-python",
   "name": "python",
   "nbconvert_exporter": "python",
   "pygments_lexer": "ipython3",
   "version": "3.6.7"
  }
 },
 "nbformat": 4,
 "nbformat_minor": 2
}
