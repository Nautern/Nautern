{
 "cells": [
  {
   "cell_type": "code",
   "execution_count": 4,
   "metadata": {},
   "outputs": [],
   "source": [
    "import time\n",
    "from selenium import webdriver\n",
    "from selenium.webdriver.common.by import By\n",
    "from selenium.webdriver.support.ui import WebDriverWait\n",
    "from selenium.webdriver.support import expected_conditions as EC\n",
    "from selenium.webdriver.common.keys import Keys\n",
    "from selenium.webdriver.common.action_chains import ActionChains"
   ]
  },
  {
   "cell_type": "code",
   "execution_count": 5,
   "metadata": {},
   "outputs": [],
   "source": [
    "# create a new Chrome session\n",
    "browser = webdriver.Chrome(executable_path='C:\\\\Users\\\\canne\\\\Documents\\\\ML\\\\review_Analytics\\\\chromedriver.exe')\n",
    "browser.implicitly_wait(30)\n",
    "browser.maximize_window()\n",
    "\n"
   ]
  },
  {
   "cell_type": "code",
   "execution_count": 6,
   "metadata": {},
   "outputs": [
    {
     "name": "stdout",
     "output_type": "stream",
     "text": [
      "[<selenium.webdriver.remote.webelement.WebElement (session=\"1533d907ff048c6432e88eb8420aef81\", element=\"0.5220187106167529-1\")>, <selenium.webdriver.remote.webelement.WebElement (session=\"1533d907ff048c6432e88eb8420aef81\", element=\"0.5220187106167529-2\")>]\n"
     ]
    }
   ],
   "source": [
    "browser.get('http://www.google.com')\n",
    "\n",
    "search = browser.find_element_by_name('q')\n",
    "search.send_keys(\"nautern aws\")\n",
    "search.send_keys(Keys.RETURN) # hit return after you enter search text\n",
    "time.sleep(5) # sleep for 5 seconds so you can see the results\n",
    "\n",
    "matched_elements = browser.find_elements_by_xpath('//a[starts-with(@href, \"https://nautern.com/\")]')\n",
    "    \n",
    "print(matched_elements)\n",
    "matched_elements[0].click()\n",
    "time.sleep(150)\n",
    "browser.quit()"
   ]
  },
  {
   "cell_type": "code",
   "execution_count": null,
   "metadata": {},
   "outputs": [],
   "source": []
  },
  {
   "cell_type": "code",
   "execution_count": null,
   "metadata": {},
   "outputs": [],
   "source": []
  },
  {
   "cell_type": "code",
   "execution_count": null,
   "metadata": {},
   "outputs": [],
   "source": []
  }
 ],
 "metadata": {
  "kernelspec": {
   "display_name": "Python (mlenv)",
   "language": "python",
   "name": "mlenv"
  },
  "language_info": {
   "codemirror_mode": {
    "name": "ipython",
    "version": 3
   },
   "file_extension": ".py",
   "mimetype": "text/x-python",
   "name": "python",
   "nbconvert_exporter": "python",
   "pygments_lexer": "ipython3",
   "version": "3.6.7"
  }
 },
 "nbformat": 4,
 "nbformat_minor": 2
}
