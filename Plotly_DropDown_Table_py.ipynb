{
 "cells": [
  {
   "cell_type": "code",
   "execution_count": 11,
   "metadata": {},
   "outputs": [],
   "source": [
    "import pandas as pd\n",
    "import matplotlib.pyplot as plt\n",
    "import seaborn as sns\n",
    "from plotly import __version__\n",
    "from plotly.offline import download_plotlyjs, init_notebook_mode, plot, iplot\n",
    "from IPython.core.display import display, HTML\n",
    "%matplotlib inline\n",
    "import numpy as np\n",
    "import plotly.graph_objs as go\n",
    "import plotly.figure_factory as ff"
   ]
  },
  {
   "cell_type": "code",
   "execution_count": 55,
   "metadata": {},
   "outputs": [
    {
     "data": {
      "text/html": [
       "<script type=\"text/javascript\">window.PlotlyConfig = {MathJaxConfig: 'local'};</script><script type=\"text/javascript\">if (window.MathJax) {MathJax.Hub.Config({SVG: {font: \"STIX-Web\"}});}</script><script>requirejs.config({paths: { 'plotly': ['https://cdn.plot.ly/plotly-latest.min']},});if(!window._Plotly) {require(['plotly'],function(plotly) {window._Plotly=plotly;});}</script>"
      ],
      "text/vnd.plotly.v1+html": [
       "<script type=\"text/javascript\">window.PlotlyConfig = {MathJaxConfig: 'local'};</script><script type=\"text/javascript\">if (window.MathJax) {MathJax.Hub.Config({SVG: {font: \"STIX-Web\"}});}</script><script>requirejs.config({paths: { 'plotly': ['https://cdn.plot.ly/plotly-latest.min']},});if(!window._Plotly) {require(['plotly'],function(plotly) {window._Plotly=plotly;});}</script>"
      ]
     },
     "metadata": {},
     "output_type": "display_data"
    }
   ],
   "source": [
    "init_notebook_mode(connected=True)"
   ]
  },
  {
   "cell_type": "code",
   "execution_count": 12,
   "metadata": {},
   "outputs": [],
   "source": [
    "df = pd.read_csv('countries of the world.csv')"
   ]
  },
  {
   "cell_type": "code",
   "execution_count": 65,
   "metadata": {},
   "outputs": [
    {
     "data": {
      "text/html": [
       "<div>\n",
       "<style scoped>\n",
       "    .dataframe tbody tr th:only-of-type {\n",
       "        vertical-align: middle;\n",
       "    }\n",
       "\n",
       "    .dataframe tbody tr th {\n",
       "        vertical-align: top;\n",
       "    }\n",
       "\n",
       "    .dataframe thead th {\n",
       "        text-align: right;\n",
       "    }\n",
       "</style>\n",
       "<table border=\"1\" class=\"dataframe\">\n",
       "  <thead>\n",
       "    <tr style=\"text-align: right;\">\n",
       "      <th></th>\n",
       "      <th>0</th>\n",
       "      <th>1</th>\n",
       "      <th>2</th>\n",
       "      <th>3</th>\n",
       "      <th>4</th>\n",
       "    </tr>\n",
       "  </thead>\n",
       "  <tbody>\n",
       "    <tr>\n",
       "      <th>Country</th>\n",
       "      <td>Afghanistan</td>\n",
       "      <td>Albania</td>\n",
       "      <td>Algeria</td>\n",
       "      <td>American Samoa</td>\n",
       "      <td>Andorra</td>\n",
       "    </tr>\n",
       "    <tr>\n",
       "      <th>Region</th>\n",
       "      <td>ASIA (EX. NEAR EAST)</td>\n",
       "      <td>EASTERN EUROPE</td>\n",
       "      <td>NORTHERN AFRICA</td>\n",
       "      <td>OCEANIA</td>\n",
       "      <td>WESTERN EUROPE</td>\n",
       "    </tr>\n",
       "    <tr>\n",
       "      <th>Population</th>\n",
       "      <td>31056997</td>\n",
       "      <td>3581655</td>\n",
       "      <td>32930091</td>\n",
       "      <td>57794</td>\n",
       "      <td>71201</td>\n",
       "    </tr>\n",
       "    <tr>\n",
       "      <th>Area (sq. mi.)</th>\n",
       "      <td>647500</td>\n",
       "      <td>28748</td>\n",
       "      <td>2381740</td>\n",
       "      <td>199</td>\n",
       "      <td>468</td>\n",
       "    </tr>\n",
       "    <tr>\n",
       "      <th>Pop. Density (per sq. mi.)</th>\n",
       "      <td>48,0</td>\n",
       "      <td>124,6</td>\n",
       "      <td>13,8</td>\n",
       "      <td>290,4</td>\n",
       "      <td>152,1</td>\n",
       "    </tr>\n",
       "    <tr>\n",
       "      <th>Coastline (coast/area ratio)</th>\n",
       "      <td>0,00</td>\n",
       "      <td>1,26</td>\n",
       "      <td>0,04</td>\n",
       "      <td>58,29</td>\n",
       "      <td>0,00</td>\n",
       "    </tr>\n",
       "    <tr>\n",
       "      <th>Net migration</th>\n",
       "      <td>23,06</td>\n",
       "      <td>-4,93</td>\n",
       "      <td>-0,39</td>\n",
       "      <td>-20,71</td>\n",
       "      <td>6,6</td>\n",
       "    </tr>\n",
       "    <tr>\n",
       "      <th>Infant mortality (per 1000 births)</th>\n",
       "      <td>163,07</td>\n",
       "      <td>21,52</td>\n",
       "      <td>31</td>\n",
       "      <td>9,27</td>\n",
       "      <td>4,05</td>\n",
       "    </tr>\n",
       "    <tr>\n",
       "      <th>GDP ($ per capita)</th>\n",
       "      <td>700</td>\n",
       "      <td>4500</td>\n",
       "      <td>6000</td>\n",
       "      <td>8000</td>\n",
       "      <td>19000</td>\n",
       "    </tr>\n",
       "    <tr>\n",
       "      <th>Literacy (%)</th>\n",
       "      <td>36,0</td>\n",
       "      <td>86,5</td>\n",
       "      <td>70,0</td>\n",
       "      <td>97,0</td>\n",
       "      <td>100,0</td>\n",
       "    </tr>\n",
       "    <tr>\n",
       "      <th>Phones (per 1000)</th>\n",
       "      <td>3,2</td>\n",
       "      <td>71,2</td>\n",
       "      <td>78,1</td>\n",
       "      <td>259,5</td>\n",
       "      <td>497,2</td>\n",
       "    </tr>\n",
       "    <tr>\n",
       "      <th>Arable (%)</th>\n",
       "      <td>12,13</td>\n",
       "      <td>21,09</td>\n",
       "      <td>3,22</td>\n",
       "      <td>10</td>\n",
       "      <td>2,22</td>\n",
       "    </tr>\n",
       "    <tr>\n",
       "      <th>Crops (%)</th>\n",
       "      <td>0,22</td>\n",
       "      <td>4,42</td>\n",
       "      <td>0,25</td>\n",
       "      <td>15</td>\n",
       "      <td>0</td>\n",
       "    </tr>\n",
       "    <tr>\n",
       "      <th>Other (%)</th>\n",
       "      <td>87,65</td>\n",
       "      <td>74,49</td>\n",
       "      <td>96,53</td>\n",
       "      <td>75</td>\n",
       "      <td>97,78</td>\n",
       "    </tr>\n",
       "    <tr>\n",
       "      <th>Climate</th>\n",
       "      <td>1</td>\n",
       "      <td>3</td>\n",
       "      <td>1</td>\n",
       "      <td>2</td>\n",
       "      <td>3</td>\n",
       "    </tr>\n",
       "    <tr>\n",
       "      <th>Birthrate</th>\n",
       "      <td>46,6</td>\n",
       "      <td>15,11</td>\n",
       "      <td>17,14</td>\n",
       "      <td>22,46</td>\n",
       "      <td>8,71</td>\n",
       "    </tr>\n",
       "    <tr>\n",
       "      <th>Deathrate</th>\n",
       "      <td>20,34</td>\n",
       "      <td>5,22</td>\n",
       "      <td>4,61</td>\n",
       "      <td>3,27</td>\n",
       "      <td>6,25</td>\n",
       "    </tr>\n",
       "    <tr>\n",
       "      <th>Agriculture</th>\n",
       "      <td>0,38</td>\n",
       "      <td>0,232</td>\n",
       "      <td>0,101</td>\n",
       "      <td>NaN</td>\n",
       "      <td>NaN</td>\n",
       "    </tr>\n",
       "    <tr>\n",
       "      <th>Industry</th>\n",
       "      <td>0,24</td>\n",
       "      <td>0,188</td>\n",
       "      <td>0,6</td>\n",
       "      <td>NaN</td>\n",
       "      <td>NaN</td>\n",
       "    </tr>\n",
       "    <tr>\n",
       "      <th>Service</th>\n",
       "      <td>0,38</td>\n",
       "      <td>0,579</td>\n",
       "      <td>0,298</td>\n",
       "      <td>NaN</td>\n",
       "      <td>NaN</td>\n",
       "    </tr>\n",
       "  </tbody>\n",
       "</table>\n",
       "</div>"
      ],
      "text/plain": [
       "                                                       0               1  \\\n",
       "Country                                     Afghanistan         Albania    \n",
       "Region                              ASIA (EX. NEAR EAST)  EASTERN EUROPE   \n",
       "Population                                      31056997         3581655   \n",
       "Area (sq. mi.)                                    647500           28748   \n",
       "Pop. Density (per sq. mi.)                          48,0           124,6   \n",
       "Coastline (coast/area ratio)                        0,00            1,26   \n",
       "Net migration                                      23,06           -4,93   \n",
       "Infant mortality (per 1000 births)                163,07           21,52   \n",
       "GDP ($ per capita)                                   700            4500   \n",
       "Literacy (%)                                        36,0            86,5   \n",
       "Phones (per 1000)                                    3,2            71,2   \n",
       "Arable (%)                                         12,13           21,09   \n",
       "Crops (%)                                           0,22            4,42   \n",
       "Other (%)                                          87,65           74,49   \n",
       "Climate                                                1               3   \n",
       "Birthrate                                           46,6           15,11   \n",
       "Deathrate                                          20,34            5,22   \n",
       "Agriculture                                         0,38           0,232   \n",
       "Industry                                            0,24           0,188   \n",
       "Service                                             0,38           0,579   \n",
       "\n",
       "                                                  2                3  \\\n",
       "Country                                    Algeria   American Samoa    \n",
       "Region                              NORTHERN AFRICA          OCEANIA   \n",
       "Population                                 32930091            57794   \n",
       "Area (sq. mi.)                              2381740              199   \n",
       "Pop. Density (per sq. mi.)                     13,8            290,4   \n",
       "Coastline (coast/area ratio)                   0,04            58,29   \n",
       "Net migration                                 -0,39           -20,71   \n",
       "Infant mortality (per 1000 births)               31             9,27   \n",
       "GDP ($ per capita)                             6000             8000   \n",
       "Literacy (%)                                   70,0             97,0   \n",
       "Phones (per 1000)                              78,1            259,5   \n",
       "Arable (%)                                     3,22               10   \n",
       "Crops (%)                                      0,25               15   \n",
       "Other (%)                                     96,53               75   \n",
       "Climate                                           1                2   \n",
       "Birthrate                                     17,14            22,46   \n",
       "Deathrate                                      4,61             3,27   \n",
       "Agriculture                                   0,101              NaN   \n",
       "Industry                                        0,6              NaN   \n",
       "Service                                       0,298              NaN   \n",
       "\n",
       "                                                 4  \n",
       "Country                                   Andorra   \n",
       "Region                              WESTERN EUROPE  \n",
       "Population                                   71201  \n",
       "Area (sq. mi.)                                 468  \n",
       "Pop. Density (per sq. mi.)                   152,1  \n",
       "Coastline (coast/area ratio)                  0,00  \n",
       "Net migration                                  6,6  \n",
       "Infant mortality (per 1000 births)            4,05  \n",
       "GDP ($ per capita)                           19000  \n",
       "Literacy (%)                                 100,0  \n",
       "Phones (per 1000)                            497,2  \n",
       "Arable (%)                                    2,22  \n",
       "Crops (%)                                        0  \n",
       "Other (%)                                    97,78  \n",
       "Climate                                          3  \n",
       "Birthrate                                     8,71  \n",
       "Deathrate                                     6,25  \n",
       "Agriculture                                    NaN  \n",
       "Industry                                       NaN  \n",
       "Service                                        NaN  "
      ]
     },
     "execution_count": 65,
     "metadata": {},
     "output_type": "execute_result"
    }
   ],
   "source": [
    "df.head().T"
   ]
  },
  {
   "cell_type": "code",
   "execution_count": 25,
   "metadata": {},
   "outputs": [],
   "source": [
    "df['Region'] = df['Region'].str.strip()"
   ]
  },
  {
   "cell_type": "code",
   "execution_count": 36,
   "metadata": {},
   "outputs": [],
   "source": [
    "traces = []\n",
    "for item in df['Region'].unique().tolist():\n",
    "    trace = ff.create_table(df.groupby('Region').get_group(item).reset_index())\n",
    "    traces.append(trace)"
   ]
  },
  {
   "cell_type": "code",
   "execution_count": 60,
   "metadata": {},
   "outputs": [],
   "source": [
    "traces = []\n",
    "for item in df['Region'].unique().tolist():\n",
    "    dftemp = df[df['Region'] == item]\n",
    "    trace = go.Table(visible=True if item==df['Region'].unique().tolist()[0] else False,\n",
    "        header=dict(values=['Country', 'Population','Area (sq. mi.)'],\n",
    "                    \n",
    "                    align='left'),\n",
    "        cells=dict(values=[dftemp.Country, dftemp.Population, dftemp['Area (sq. mi.)']],\n",
    "                   \n",
    "                   align='left'))\n",
    "    traces.append(trace)"
   ]
  },
  {
   "cell_type": "code",
   "execution_count": 61,
   "metadata": {},
   "outputs": [],
   "source": [
    "button_labels = df['Region'].unique().tolist()"
   ]
  },
  {
   "cell_type": "code",
   "execution_count": 62,
   "metadata": {},
   "outputs": [],
   "source": [
    "table_vis = df['Region'].unique().tolist()\n",
    "\n",
    "buttons_table = [{'label':lab,\n",
    "             'method':'update',\n",
    "             'args':[{'visible':[y==lab for y in table_vis]}]} for lab in button_labels]\n",
    "\n",
    "update_menus = [{'active':0,\n",
    "                'buttons':buttons_table,\n",
    "                'y':1.2,\n",
    "                'x':0.9}]"
   ]
  },
  {
   "cell_type": "code",
   "execution_count": 63,
   "metadata": {},
   "outputs": [],
   "source": [
    "layout=go.Layout(height=800)\n",
    "\n",
    "layout['updatemenus']=update_menus\n",
    "\n",
    "TableFig = go.Figure(data = traces, layout = layout)"
   ]
  },
  {
   "cell_type": "code",
   "execution_count": 64,
   "metadata": {},
   "outputs": [
    {
     "data": {
      "application/vnd.plotly.v1+json": {
       "config": {
        "linkText": "Export to plot.ly",
        "plotlyServerURL": "https://plot.ly",
        "showLink": true
       },
       "data": [
        {
         "cells": {
          "align": "left",
          "values": [
           [
            "Afghanistan ",
            "Bangladesh ",
            "Bhutan ",
            "Brunei ",
            "Burma ",
            "Cambodia ",
            "China ",
            "East Timor ",
            "Hong Kong ",
            "India ",
            "Indonesia ",
            "Iran ",
            "Japan ",
            "Korea, North ",
            "Korea, South ",
            "Laos ",
            "Macau ",
            "Malaysia ",
            "Maldives ",
            "Mongolia ",
            "Nepal ",
            "Pakistan ",
            "Philippines ",
            "Singapore ",
            "Sri Lanka ",
            "Taiwan ",
            "Thailand ",
            "Vietnam "
           ],
           [
            31056997,
            147365352,
            2279723,
            379444,
            47382633,
            13881427,
            1313973713,
            1062777,
            6940432,
            1095351995,
            245452739,
            68688433,
            127463611,
            23113019,
            48846823,
            6368481,
            453125,
            24385858,
            359008,
            2832224,
            28287147,
            165803560,
            89468677,
            4492150,
            20222240,
            23036087,
            64631595,
            84402966
           ],
           [
            647500,
            144000,
            47000,
            5770,
            678500,
            181040,
            9596960,
            15007,
            1092,
            3287590,
            1919440,
            1648000,
            377835,
            120540,
            98480,
            236800,
            28,
            329750,
            300,
            1564116,
            147181,
            803940,
            300000,
            693,
            65610,
            35980,
            514000,
            329560
           ]
          ]
         },
         "header": {
          "align": "left",
          "values": [
           "Country",
           "Population",
           "Area (sq. mi.)"
          ]
         },
         "type": "table",
         "uid": "ce9db1fe-bb88-4817-889b-46a60bb9cb5a",
         "visible": true
        },
        {
         "cells": {
          "align": "left",
          "values": [
           [
            "Albania ",
            "Bosnia & Herzegovina ",
            "Bulgaria ",
            "Croatia ",
            "Czech Republic ",
            "Hungary ",
            "Macedonia ",
            "Poland ",
            "Romania ",
            "Serbia ",
            "Slovakia ",
            "Slovenia "
           ],
           [
            3581655,
            4498976,
            7385367,
            4494749,
            10235455,
            9981334,
            2050554,
            38536869,
            22303552,
            9396411,
            5439448,
            2010347
           ],
           [
            28748,
            51129,
            110910,
            56542,
            78866,
            93030,
            25333,
            312685,
            237500,
            88361,
            48845,
            20273
           ]
          ]
         },
         "header": {
          "align": "left",
          "values": [
           "Country",
           "Population",
           "Area (sq. mi.)"
          ]
         },
         "type": "table",
         "uid": "98e84c51-8002-4dee-bd86-688aa54a00ed",
         "visible": false
        },
        {
         "cells": {
          "align": "left",
          "values": [
           [
            "Algeria ",
            "Egypt ",
            "Libya ",
            "Morocco ",
            "Tunisia ",
            "Western Sahara "
           ],
           [
            32930091,
            78887007,
            5900754,
            33241259,
            10175014,
            273008
           ],
           [
            2381740,
            1001450,
            1759540,
            446550,
            163610,
            266000
           ]
          ]
         },
         "header": {
          "align": "left",
          "values": [
           "Country",
           "Population",
           "Area (sq. mi.)"
          ]
         },
         "type": "table",
         "uid": "b7f28655-b000-40f5-86fe-cb0f3cd77f0b",
         "visible": false
        },
        {
         "cells": {
          "align": "left",
          "values": [
           [
            "American Samoa ",
            "Australia ",
            "Cook Islands ",
            "Fiji ",
            "French Polynesia ",
            "Guam ",
            "Kiribati ",
            "Marshall Islands ",
            "Micronesia, Fed. St. ",
            "Nauru ",
            "New Caledonia ",
            "New Zealand ",
            "N. Mariana Islands ",
            "Palau ",
            "Papua New Guinea ",
            "Samoa ",
            "Solomon Islands ",
            "Tonga ",
            "Tuvalu ",
            "Vanuatu ",
            "Wallis and Futuna "
           ],
           [
            57794,
            20264082,
            21388,
            905949,
            274578,
            171019,
            105432,
            60422,
            108004,
            13287,
            219246,
            4076140,
            82459,
            20579,
            5670544,
            176908,
            552438,
            114689,
            11810,
            208869,
            16025
           ],
           [
            199,
            7686850,
            240,
            18270,
            4167,
            541,
            811,
            11854,
            702,
            21,
            19060,
            268680,
            477,
            458,
            462840,
            2944,
            28450,
            748,
            26,
            12200,
            274
           ]
          ]
         },
         "header": {
          "align": "left",
          "values": [
           "Country",
           "Population",
           "Area (sq. mi.)"
          ]
         },
         "type": "table",
         "uid": "eab105c5-b0f7-4632-b609-0ac8ce5cd5e9",
         "visible": false
        },
        {
         "cells": {
          "align": "left",
          "values": [
           [
            "Andorra ",
            "Austria ",
            "Belgium ",
            "Denmark ",
            "Faroe Islands ",
            "Finland ",
            "France ",
            "Germany ",
            "Gibraltar ",
            "Greece ",
            "Guernsey ",
            "Iceland ",
            "Ireland ",
            "Isle of Man ",
            "Italy ",
            "Jersey ",
            "Liechtenstein ",
            "Luxembourg ",
            "Malta ",
            "Monaco ",
            "Netherlands ",
            "Norway ",
            "Portugal ",
            "San Marino ",
            "Spain ",
            "Sweden ",
            "Switzerland ",
            "United Kingdom "
           ],
           [
            71201,
            8192880,
            10379067,
            5450661,
            47246,
            5231372,
            60876136,
            82422299,
            27928,
            10688058,
            65409,
            299388,
            4062235,
            75441,
            58133509,
            91084,
            33987,
            474413,
            400214,
            32543,
            16491461,
            4610820,
            10605870,
            29251,
            40397842,
            9016596,
            7523934,
            60609153
           ],
           [
            468,
            83870,
            30528,
            43094,
            1399,
            338145,
            547030,
            357021,
            7,
            131940,
            78,
            103000,
            70280,
            572,
            301230,
            116,
            160,
            2586,
            316,
            2,
            41526,
            323802,
            92391,
            61,
            504782,
            449964,
            41290,
            244820
           ]
          ]
         },
         "header": {
          "align": "left",
          "values": [
           "Country",
           "Population",
           "Area (sq. mi.)"
          ]
         },
         "type": "table",
         "uid": "6db145db-7b7e-411d-84e0-bc4a2531423e",
         "visible": false
        },
        {
         "cells": {
          "align": "left",
          "values": [
           [
            "Angola ",
            "Benin ",
            "Botswana ",
            "Burkina Faso ",
            "Burundi ",
            "Cameroon ",
            "Cape Verde ",
            "Central African Rep. ",
            "Chad ",
            "Comoros ",
            "Congo, Dem. Rep. ",
            "Congo, Repub. of the ",
            "Cote d'Ivoire ",
            "Djibouti ",
            "Equatorial Guinea ",
            "Eritrea ",
            "Ethiopia ",
            "Gabon ",
            "Gambia, The ",
            "Ghana ",
            "Guinea ",
            "Guinea-Bissau ",
            "Kenya ",
            "Lesotho ",
            "Liberia ",
            "Madagascar ",
            "Malawi ",
            "Mali ",
            "Mauritania ",
            "Mauritius ",
            "Mayotte ",
            "Mozambique ",
            "Namibia ",
            "Niger ",
            "Nigeria ",
            "Reunion ",
            "Rwanda ",
            "Saint Helena ",
            "Sao Tome & Principe ",
            "Senegal ",
            "Seychelles ",
            "Sierra Leone ",
            "Somalia ",
            "South Africa ",
            "Sudan ",
            "Swaziland ",
            "Tanzania ",
            "Togo ",
            "Uganda ",
            "Zambia ",
            "Zimbabwe "
           ],
           [
            12127071,
            7862944,
            1639833,
            13902972,
            8090068,
            17340702,
            420979,
            4303356,
            9944201,
            690948,
            62660551,
            3702314,
            17654843,
            486530,
            540109,
            4786994,
            74777981,
            1424906,
            1641564,
            22409572,
            9690222,
            1442029,
            34707817,
            2022331,
            3042004,
            18595469,
            13013926,
            11716829,
            3177388,
            1240827,
            201234,
            19686505,
            2044147,
            12525094,
            131859731,
            787584,
            8648248,
            7502,
            193413,
            11987121,
            81541,
            6005250,
            8863338,
            44187637,
            41236378,
            1136334,
            37445392,
            5548702,
            28195754,
            11502010,
            12236805
           ],
           [
            1246700,
            112620,
            600370,
            274200,
            27830,
            475440,
            4033,
            622984,
            1284000,
            2170,
            2345410,
            342000,
            322460,
            23000,
            28051,
            121320,
            1127127,
            267667,
            11300,
            239460,
            245857,
            36120,
            582650,
            30355,
            111370,
            587040,
            118480,
            1240000,
            1030700,
            2040,
            374,
            801590,
            825418,
            1267000,
            923768,
            2517,
            26338,
            413,
            1001,
            196190,
            455,
            71740,
            637657,
            1219912,
            2505810,
            17363,
            945087,
            56785,
            236040,
            752614,
            390580
           ]
          ]
         },
         "header": {
          "align": "left",
          "values": [
           "Country",
           "Population",
           "Area (sq. mi.)"
          ]
         },
         "type": "table",
         "uid": "5870ba24-624c-440f-9439-2924188a3f1f",
         "visible": false
        },
        {
         "cells": {
          "align": "left",
          "values": [
           [
            "Anguilla ",
            "Antigua & Barbuda ",
            "Argentina ",
            "Aruba ",
            "Bahamas, The ",
            "Barbados ",
            "Belize ",
            "Bolivia ",
            "Brazil ",
            "British Virgin Is. ",
            "Cayman Islands ",
            "Chile ",
            "Colombia ",
            "Costa Rica ",
            "Cuba ",
            "Dominica ",
            "Dominican Republic ",
            "Ecuador ",
            "El Salvador ",
            "French Guiana ",
            "Grenada ",
            "Guadeloupe ",
            "Guatemala ",
            "Guyana ",
            "Haiti ",
            "Honduras ",
            "Jamaica ",
            "Martinique ",
            "Mexico ",
            "Montserrat ",
            "Netherlands Antilles ",
            "Nicaragua ",
            "Panama ",
            "Paraguay ",
            "Peru ",
            "Puerto Rico ",
            "Saint Kitts & Nevis ",
            "Saint Lucia ",
            "Saint Vincent and the Grenadines ",
            "Suriname ",
            "Trinidad & Tobago ",
            "Turks & Caicos Is ",
            "Uruguay ",
            "Venezuela ",
            "Virgin Islands "
           ],
           [
            13477,
            69108,
            39921833,
            71891,
            303770,
            279912,
            287730,
            8989046,
            188078227,
            23098,
            45436,
            16134219,
            43593035,
            4075261,
            11382820,
            68910,
            9183984,
            13547510,
            6822378,
            199509,
            89703,
            452776,
            12293545,
            767245,
            8308504,
            7326496,
            2758124,
            436131,
            107449525,
            9439,
            221736,
            5570129,
            3191319,
            6506464,
            28302603,
            3927188,
            39129,
            168458,
            117848,
            439117,
            1065842,
            21152,
            3431932,
            25730435,
            108605
           ],
           [
            102,
            443,
            2766890,
            193,
            13940,
            431,
            22966,
            1098580,
            8511965,
            153,
            262,
            756950,
            1138910,
            51100,
            110860,
            754,
            48730,
            283560,
            21040,
            91000,
            344,
            1780,
            108890,
            214970,
            27750,
            112090,
            10991,
            1100,
            1972550,
            102,
            960,
            129494,
            78200,
            406750,
            1285220,
            13790,
            261,
            616,
            389,
            163270,
            5128,
            430,
            176220,
            912050,
            1910
           ]
          ]
         },
         "header": {
          "align": "left",
          "values": [
           "Country",
           "Population",
           "Area (sq. mi.)"
          ]
         },
         "type": "table",
         "uid": "6a8a2ea4-65f7-4b47-8bbe-786c575bade6",
         "visible": false
        },
        {
         "cells": {
          "align": "left",
          "values": [
           [
            "Armenia ",
            "Azerbaijan ",
            "Belarus ",
            "Georgia ",
            "Kazakhstan ",
            "Kyrgyzstan ",
            "Moldova ",
            "Russia ",
            "Tajikistan ",
            "Turkmenistan ",
            "Ukraine ",
            "Uzbekistan "
           ],
           [
            2976372,
            7961619,
            10293011,
            4661473,
            15233244,
            5213898,
            4466706,
            142893540,
            7320815,
            5042920,
            46710816,
            27307134
           ],
           [
            29800,
            86600,
            207600,
            69700,
            2717300,
            198500,
            33843,
            17075200,
            143100,
            488100,
            603700,
            447400
           ]
          ]
         },
         "header": {
          "align": "left",
          "values": [
           "Country",
           "Population",
           "Area (sq. mi.)"
          ]
         },
         "type": "table",
         "uid": "2cf2d044-804e-41fc-b262-75b99ef9fede",
         "visible": false
        },
        {
         "cells": {
          "align": "left",
          "values": [
           [
            "Bahrain ",
            "Cyprus ",
            "Gaza Strip ",
            "Iraq ",
            "Israel ",
            "Jordan ",
            "Kuwait ",
            "Lebanon ",
            "Oman ",
            "Qatar ",
            "Saudi Arabia ",
            "Syria ",
            "Turkey ",
            "United Arab Emirates ",
            "West Bank ",
            "Yemen "
           ],
           [
            698585,
            784301,
            1428757,
            26783383,
            6352117,
            5906760,
            2418393,
            3874050,
            3102229,
            885359,
            27019731,
            18881361,
            70413958,
            2602713,
            2460492,
            21456188
           ],
           [
            665,
            9250,
            360,
            437072,
            20770,
            92300,
            17820,
            10400,
            212460,
            11437,
            1960582,
            185180,
            780580,
            82880,
            5860,
            527970
           ]
          ]
         },
         "header": {
          "align": "left",
          "values": [
           "Country",
           "Population",
           "Area (sq. mi.)"
          ]
         },
         "type": "table",
         "uid": "f6c30ab3-9a4e-4661-8afc-2ba79a3b454d",
         "visible": false
        },
        {
         "cells": {
          "align": "left",
          "values": [
           [
            "Bermuda ",
            "Canada ",
            "Greenland ",
            "St Pierre & Miquelon ",
            "United States "
           ],
           [
            65773,
            33098932,
            56361,
            7026,
            298444215
           ],
           [
            53,
            9984670,
            2166086,
            242,
            9631420
           ]
          ]
         },
         "header": {
          "align": "left",
          "values": [
           "Country",
           "Population",
           "Area (sq. mi.)"
          ]
         },
         "type": "table",
         "uid": "5f5590b8-3758-43a2-a3dd-fc3c1ece0b5a",
         "visible": false
        },
        {
         "cells": {
          "align": "left",
          "values": [
           [
            "Estonia ",
            "Latvia ",
            "Lithuania "
           ],
           [
            1324333,
            2274735,
            3585906
           ],
           [
            45226,
            64589,
            65200
           ]
          ]
         },
         "header": {
          "align": "left",
          "values": [
           "Country",
           "Population",
           "Area (sq. mi.)"
          ]
         },
         "type": "table",
         "uid": "911de703-626a-485c-b163-443dd6aa9f20",
         "visible": false
        }
       ],
       "layout": {
        "height": 800,
        "updatemenus": [
         {
          "active": 0,
          "buttons": [
           {
            "args": [
             {
              "visible": [
               true,
               false,
               false,
               false,
               false,
               false,
               false,
               false,
               false,
               false,
               false
              ]
             }
            ],
            "label": "ASIA (EX. NEAR EAST)",
            "method": "update"
           },
           {
            "args": [
             {
              "visible": [
               false,
               true,
               false,
               false,
               false,
               false,
               false,
               false,
               false,
               false,
               false
              ]
             }
            ],
            "label": "EASTERN EUROPE",
            "method": "update"
           },
           {
            "args": [
             {
              "visible": [
               false,
               false,
               true,
               false,
               false,
               false,
               false,
               false,
               false,
               false,
               false
              ]
             }
            ],
            "label": "NORTHERN AFRICA",
            "method": "update"
           },
           {
            "args": [
             {
              "visible": [
               false,
               false,
               false,
               true,
               false,
               false,
               false,
               false,
               false,
               false,
               false
              ]
             }
            ],
            "label": "OCEANIA",
            "method": "update"
           },
           {
            "args": [
             {
              "visible": [
               false,
               false,
               false,
               false,
               true,
               false,
               false,
               false,
               false,
               false,
               false
              ]
             }
            ],
            "label": "WESTERN EUROPE",
            "method": "update"
           },
           {
            "args": [
             {
              "visible": [
               false,
               false,
               false,
               false,
               false,
               true,
               false,
               false,
               false,
               false,
               false
              ]
             }
            ],
            "label": "SUB-SAHARAN AFRICA",
            "method": "update"
           },
           {
            "args": [
             {
              "visible": [
               false,
               false,
               false,
               false,
               false,
               false,
               true,
               false,
               false,
               false,
               false
              ]
             }
            ],
            "label": "LATIN AMER. & CARIB",
            "method": "update"
           },
           {
            "args": [
             {
              "visible": [
               false,
               false,
               false,
               false,
               false,
               false,
               false,
               true,
               false,
               false,
               false
              ]
             }
            ],
            "label": "C.W. OF IND. STATES",
            "method": "update"
           },
           {
            "args": [
             {
              "visible": [
               false,
               false,
               false,
               false,
               false,
               false,
               false,
               false,
               true,
               false,
               false
              ]
             }
            ],
            "label": "NEAR EAST",
            "method": "update"
           },
           {
            "args": [
             {
              "visible": [
               false,
               false,
               false,
               false,
               false,
               false,
               false,
               false,
               false,
               true,
               false
              ]
             }
            ],
            "label": "NORTHERN AMERICA",
            "method": "update"
           },
           {
            "args": [
             {
              "visible": [
               false,
               false,
               false,
               false,
               false,
               false,
               false,
               false,
               false,
               false,
               true
              ]
             }
            ],
            "label": "BALTICS",
            "method": "update"
           }
          ],
          "x": 0.9,
          "y": 1.2
         }
        ]
       }
      },
      "text/html": [
       "<div id=\"d75e3536-2545-4339-8c2d-ddce32534d61\" style=\"height: 800px; width: 100%;\" class=\"plotly-graph-div\"></div><script type=\"text/javascript\">require([\"plotly\"], function(Plotly) { window.PLOTLYENV=window.PLOTLYENV || {};window.PLOTLYENV.BASE_URL=\"https://plot.ly\";Plotly.newPlot(\"d75e3536-2545-4339-8c2d-ddce32534d61\", [{\"cells\": {\"align\": \"left\", \"values\": [[\"Afghanistan \", \"Bangladesh \", \"Bhutan \", \"Brunei \", \"Burma \", \"Cambodia \", \"China \", \"East Timor \", \"Hong Kong \", \"India \", \"Indonesia \", \"Iran \", \"Japan \", \"Korea, North \", \"Korea, South \", \"Laos \", \"Macau \", \"Malaysia \", \"Maldives \", \"Mongolia \", \"Nepal \", \"Pakistan \", \"Philippines \", \"Singapore \", \"Sri Lanka \", \"Taiwan \", \"Thailand \", \"Vietnam \"], [31056997, 147365352, 2279723, 379444, 47382633, 13881427, 1313973713, 1062777, 6940432, 1095351995, 245452739, 68688433, 127463611, 23113019, 48846823, 6368481, 453125, 24385858, 359008, 2832224, 28287147, 165803560, 89468677, 4492150, 20222240, 23036087, 64631595, 84402966], [647500, 144000, 47000, 5770, 678500, 181040, 9596960, 15007, 1092, 3287590, 1919440, 1648000, 377835, 120540, 98480, 236800, 28, 329750, 300, 1564116, 147181, 803940, 300000, 693, 65610, 35980, 514000, 329560]]}, \"header\": {\"align\": \"left\", \"values\": [\"Country\", \"Population\", \"Area (sq. mi.)\"]}, \"visible\": true, \"type\": \"table\", \"uid\": \"ce9db1fe-bb88-4817-889b-46a60bb9cb5a\"}, {\"cells\": {\"align\": \"left\", \"values\": [[\"Albania \", \"Bosnia & Herzegovina \", \"Bulgaria \", \"Croatia \", \"Czech Republic \", \"Hungary \", \"Macedonia \", \"Poland \", \"Romania \", \"Serbia \", \"Slovakia \", \"Slovenia \"], [3581655, 4498976, 7385367, 4494749, 10235455, 9981334, 2050554, 38536869, 22303552, 9396411, 5439448, 2010347], [28748, 51129, 110910, 56542, 78866, 93030, 25333, 312685, 237500, 88361, 48845, 20273]]}, \"header\": {\"align\": \"left\", \"values\": [\"Country\", \"Population\", \"Area (sq. mi.)\"]}, \"visible\": false, \"type\": \"table\", \"uid\": \"98e84c51-8002-4dee-bd86-688aa54a00ed\"}, {\"cells\": {\"align\": \"left\", \"values\": [[\"Algeria \", \"Egypt \", \"Libya \", \"Morocco \", \"Tunisia \", \"Western Sahara \"], [32930091, 78887007, 5900754, 33241259, 10175014, 273008], [2381740, 1001450, 1759540, 446550, 163610, 266000]]}, \"header\": {\"align\": \"left\", \"values\": [\"Country\", \"Population\", \"Area (sq. mi.)\"]}, \"visible\": false, \"type\": \"table\", \"uid\": \"b7f28655-b000-40f5-86fe-cb0f3cd77f0b\"}, {\"cells\": {\"align\": \"left\", \"values\": [[\"American Samoa \", \"Australia \", \"Cook Islands \", \"Fiji \", \"French Polynesia \", \"Guam \", \"Kiribati \", \"Marshall Islands \", \"Micronesia, Fed. St. \", \"Nauru \", \"New Caledonia \", \"New Zealand \", \"N. Mariana Islands \", \"Palau \", \"Papua New Guinea \", \"Samoa \", \"Solomon Islands \", \"Tonga \", \"Tuvalu \", \"Vanuatu \", \"Wallis and Futuna \"], [57794, 20264082, 21388, 905949, 274578, 171019, 105432, 60422, 108004, 13287, 219246, 4076140, 82459, 20579, 5670544, 176908, 552438, 114689, 11810, 208869, 16025], [199, 7686850, 240, 18270, 4167, 541, 811, 11854, 702, 21, 19060, 268680, 477, 458, 462840, 2944, 28450, 748, 26, 12200, 274]]}, \"header\": {\"align\": \"left\", \"values\": [\"Country\", \"Population\", \"Area (sq. mi.)\"]}, \"visible\": false, \"type\": \"table\", \"uid\": \"eab105c5-b0f7-4632-b609-0ac8ce5cd5e9\"}, {\"cells\": {\"align\": \"left\", \"values\": [[\"Andorra \", \"Austria \", \"Belgium \", \"Denmark \", \"Faroe Islands \", \"Finland \", \"France \", \"Germany \", \"Gibraltar \", \"Greece \", \"Guernsey \", \"Iceland \", \"Ireland \", \"Isle of Man \", \"Italy \", \"Jersey \", \"Liechtenstein \", \"Luxembourg \", \"Malta \", \"Monaco \", \"Netherlands \", \"Norway \", \"Portugal \", \"San Marino \", \"Spain \", \"Sweden \", \"Switzerland \", \"United Kingdom \"], [71201, 8192880, 10379067, 5450661, 47246, 5231372, 60876136, 82422299, 27928, 10688058, 65409, 299388, 4062235, 75441, 58133509, 91084, 33987, 474413, 400214, 32543, 16491461, 4610820, 10605870, 29251, 40397842, 9016596, 7523934, 60609153], [468, 83870, 30528, 43094, 1399, 338145, 547030, 357021, 7, 131940, 78, 103000, 70280, 572, 301230, 116, 160, 2586, 316, 2, 41526, 323802, 92391, 61, 504782, 449964, 41290, 244820]]}, \"header\": {\"align\": \"left\", \"values\": [\"Country\", \"Population\", \"Area (sq. mi.)\"]}, \"visible\": false, \"type\": \"table\", \"uid\": \"6db145db-7b7e-411d-84e0-bc4a2531423e\"}, {\"cells\": {\"align\": \"left\", \"values\": [[\"Angola \", \"Benin \", \"Botswana \", \"Burkina Faso \", \"Burundi \", \"Cameroon \", \"Cape Verde \", \"Central African Rep. \", \"Chad \", \"Comoros \", \"Congo, Dem. Rep. \", \"Congo, Repub. of the \", \"Cote d'Ivoire \", \"Djibouti \", \"Equatorial Guinea \", \"Eritrea \", \"Ethiopia \", \"Gabon \", \"Gambia, The \", \"Ghana \", \"Guinea \", \"Guinea-Bissau \", \"Kenya \", \"Lesotho \", \"Liberia \", \"Madagascar \", \"Malawi \", \"Mali \", \"Mauritania \", \"Mauritius \", \"Mayotte \", \"Mozambique \", \"Namibia \", \"Niger \", \"Nigeria \", \"Reunion \", \"Rwanda \", \"Saint Helena \", \"Sao Tome & Principe \", \"Senegal \", \"Seychelles \", \"Sierra Leone \", \"Somalia \", \"South Africa \", \"Sudan \", \"Swaziland \", \"Tanzania \", \"Togo \", \"Uganda \", \"Zambia \", \"Zimbabwe \"], [12127071, 7862944, 1639833, 13902972, 8090068, 17340702, 420979, 4303356, 9944201, 690948, 62660551, 3702314, 17654843, 486530, 540109, 4786994, 74777981, 1424906, 1641564, 22409572, 9690222, 1442029, 34707817, 2022331, 3042004, 18595469, 13013926, 11716829, 3177388, 1240827, 201234, 19686505, 2044147, 12525094, 131859731, 787584, 8648248, 7502, 193413, 11987121, 81541, 6005250, 8863338, 44187637, 41236378, 1136334, 37445392, 5548702, 28195754, 11502010, 12236805], [1246700, 112620, 600370, 274200, 27830, 475440, 4033, 622984, 1284000, 2170, 2345410, 342000, 322460, 23000, 28051, 121320, 1127127, 267667, 11300, 239460, 245857, 36120, 582650, 30355, 111370, 587040, 118480, 1240000, 1030700, 2040, 374, 801590, 825418, 1267000, 923768, 2517, 26338, 413, 1001, 196190, 455, 71740, 637657, 1219912, 2505810, 17363, 945087, 56785, 236040, 752614, 390580]]}, \"header\": {\"align\": \"left\", \"values\": [\"Country\", \"Population\", \"Area (sq. mi.)\"]}, \"visible\": false, \"type\": \"table\", \"uid\": \"5870ba24-624c-440f-9439-2924188a3f1f\"}, {\"cells\": {\"align\": \"left\", \"values\": [[\"Anguilla \", \"Antigua & Barbuda \", \"Argentina \", \"Aruba \", \"Bahamas, The \", \"Barbados \", \"Belize \", \"Bolivia \", \"Brazil \", \"British Virgin Is. \", \"Cayman Islands \", \"Chile \", \"Colombia \", \"Costa Rica \", \"Cuba \", \"Dominica \", \"Dominican Republic \", \"Ecuador \", \"El Salvador \", \"French Guiana \", \"Grenada \", \"Guadeloupe \", \"Guatemala \", \"Guyana \", \"Haiti \", \"Honduras \", \"Jamaica \", \"Martinique \", \"Mexico \", \"Montserrat \", \"Netherlands Antilles \", \"Nicaragua \", \"Panama \", \"Paraguay \", \"Peru \", \"Puerto Rico \", \"Saint Kitts & Nevis \", \"Saint Lucia \", \"Saint Vincent and the Grenadines \", \"Suriname \", \"Trinidad & Tobago \", \"Turks & Caicos Is \", \"Uruguay \", \"Venezuela \", \"Virgin Islands \"], [13477, 69108, 39921833, 71891, 303770, 279912, 287730, 8989046, 188078227, 23098, 45436, 16134219, 43593035, 4075261, 11382820, 68910, 9183984, 13547510, 6822378, 199509, 89703, 452776, 12293545, 767245, 8308504, 7326496, 2758124, 436131, 107449525, 9439, 221736, 5570129, 3191319, 6506464, 28302603, 3927188, 39129, 168458, 117848, 439117, 1065842, 21152, 3431932, 25730435, 108605], [102, 443, 2766890, 193, 13940, 431, 22966, 1098580, 8511965, 153, 262, 756950, 1138910, 51100, 110860, 754, 48730, 283560, 21040, 91000, 344, 1780, 108890, 214970, 27750, 112090, 10991, 1100, 1972550, 102, 960, 129494, 78200, 406750, 1285220, 13790, 261, 616, 389, 163270, 5128, 430, 176220, 912050, 1910]]}, \"header\": {\"align\": \"left\", \"values\": [\"Country\", \"Population\", \"Area (sq. mi.)\"]}, \"visible\": false, \"type\": \"table\", \"uid\": \"6a8a2ea4-65f7-4b47-8bbe-786c575bade6\"}, {\"cells\": {\"align\": \"left\", \"values\": [[\"Armenia \", \"Azerbaijan \", \"Belarus \", \"Georgia \", \"Kazakhstan \", \"Kyrgyzstan \", \"Moldova \", \"Russia \", \"Tajikistan \", \"Turkmenistan \", \"Ukraine \", \"Uzbekistan \"], [2976372, 7961619, 10293011, 4661473, 15233244, 5213898, 4466706, 142893540, 7320815, 5042920, 46710816, 27307134], [29800, 86600, 207600, 69700, 2717300, 198500, 33843, 17075200, 143100, 488100, 603700, 447400]]}, \"header\": {\"align\": \"left\", \"values\": [\"Country\", \"Population\", \"Area (sq. mi.)\"]}, \"visible\": false, \"type\": \"table\", \"uid\": \"2cf2d044-804e-41fc-b262-75b99ef9fede\"}, {\"cells\": {\"align\": \"left\", \"values\": [[\"Bahrain \", \"Cyprus \", \"Gaza Strip \", \"Iraq \", \"Israel \", \"Jordan \", \"Kuwait \", \"Lebanon \", \"Oman \", \"Qatar \", \"Saudi Arabia \", \"Syria \", \"Turkey \", \"United Arab Emirates \", \"West Bank \", \"Yemen \"], [698585, 784301, 1428757, 26783383, 6352117, 5906760, 2418393, 3874050, 3102229, 885359, 27019731, 18881361, 70413958, 2602713, 2460492, 21456188], [665, 9250, 360, 437072, 20770, 92300, 17820, 10400, 212460, 11437, 1960582, 185180, 780580, 82880, 5860, 527970]]}, \"header\": {\"align\": \"left\", \"values\": [\"Country\", \"Population\", \"Area (sq. mi.)\"]}, \"visible\": false, \"type\": \"table\", \"uid\": \"f6c30ab3-9a4e-4661-8afc-2ba79a3b454d\"}, {\"cells\": {\"align\": \"left\", \"values\": [[\"Bermuda \", \"Canada \", \"Greenland \", \"St Pierre & Miquelon \", \"United States \"], [65773, 33098932, 56361, 7026, 298444215], [53, 9984670, 2166086, 242, 9631420]]}, \"header\": {\"align\": \"left\", \"values\": [\"Country\", \"Population\", \"Area (sq. mi.)\"]}, \"visible\": false, \"type\": \"table\", \"uid\": \"5f5590b8-3758-43a2-a3dd-fc3c1ece0b5a\"}, {\"cells\": {\"align\": \"left\", \"values\": [[\"Estonia \", \"Latvia \", \"Lithuania \"], [1324333, 2274735, 3585906], [45226, 64589, 65200]]}, \"header\": {\"align\": \"left\", \"values\": [\"Country\", \"Population\", \"Area (sq. mi.)\"]}, \"visible\": false, \"type\": \"table\", \"uid\": \"911de703-626a-485c-b163-443dd6aa9f20\"}], {\"height\": 800, \"updatemenus\": [{\"active\": 0, \"buttons\": [{\"args\": [{\"visible\": [true, false, false, false, false, false, false, false, false, false, false]}], \"label\": \"ASIA (EX. NEAR EAST)\", \"method\": \"update\"}, {\"args\": [{\"visible\": [false, true, false, false, false, false, false, false, false, false, false]}], \"label\": \"EASTERN EUROPE\", \"method\": \"update\"}, {\"args\": [{\"visible\": [false, false, true, false, false, false, false, false, false, false, false]}], \"label\": \"NORTHERN AFRICA\", \"method\": \"update\"}, {\"args\": [{\"visible\": [false, false, false, true, false, false, false, false, false, false, false]}], \"label\": \"OCEANIA\", \"method\": \"update\"}, {\"args\": [{\"visible\": [false, false, false, false, true, false, false, false, false, false, false]}], \"label\": \"WESTERN EUROPE\", \"method\": \"update\"}, {\"args\": [{\"visible\": [false, false, false, false, false, true, false, false, false, false, false]}], \"label\": \"SUB-SAHARAN AFRICA\", \"method\": \"update\"}, {\"args\": [{\"visible\": [false, false, false, false, false, false, true, false, false, false, false]}], \"label\": \"LATIN AMER. & CARIB\", \"method\": \"update\"}, {\"args\": [{\"visible\": [false, false, false, false, false, false, false, true, false, false, false]}], \"label\": \"C.W. OF IND. STATES\", \"method\": \"update\"}, {\"args\": [{\"visible\": [false, false, false, false, false, false, false, false, true, false, false]}], \"label\": \"NEAR EAST\", \"method\": \"update\"}, {\"args\": [{\"visible\": [false, false, false, false, false, false, false, false, false, true, false]}], \"label\": \"NORTHERN AMERICA\", \"method\": \"update\"}, {\"args\": [{\"visible\": [false, false, false, false, false, false, false, false, false, false, true]}], \"label\": \"BALTICS\", \"method\": \"update\"}], \"x\": 0.9, \"y\": 1.2}]}, {\"showLink\": true, \"linkText\": \"Export to plot.ly\", \"plotlyServerURL\": \"https://plot.ly\"})});</script><script type=\"text/javascript\">window.addEventListener(\"resize\", function(){window._Plotly.Plots.resize(document.getElementById(\"d75e3536-2545-4339-8c2d-ddce32534d61\"));});</script>"
      ],
      "text/vnd.plotly.v1+html": [
       "<div id=\"d75e3536-2545-4339-8c2d-ddce32534d61\" style=\"height: 800px; width: 100%;\" class=\"plotly-graph-div\"></div><script type=\"text/javascript\">require([\"plotly\"], function(Plotly) { window.PLOTLYENV=window.PLOTLYENV || {};window.PLOTLYENV.BASE_URL=\"https://plot.ly\";Plotly.newPlot(\"d75e3536-2545-4339-8c2d-ddce32534d61\", [{\"cells\": {\"align\": \"left\", \"values\": [[\"Afghanistan \", \"Bangladesh \", \"Bhutan \", \"Brunei \", \"Burma \", \"Cambodia \", \"China \", \"East Timor \", \"Hong Kong \", \"India \", \"Indonesia \", \"Iran \", \"Japan \", \"Korea, North \", \"Korea, South \", \"Laos \", \"Macau \", \"Malaysia \", \"Maldives \", \"Mongolia \", \"Nepal \", \"Pakistan \", \"Philippines \", \"Singapore \", \"Sri Lanka \", \"Taiwan \", \"Thailand \", \"Vietnam \"], [31056997, 147365352, 2279723, 379444, 47382633, 13881427, 1313973713, 1062777, 6940432, 1095351995, 245452739, 68688433, 127463611, 23113019, 48846823, 6368481, 453125, 24385858, 359008, 2832224, 28287147, 165803560, 89468677, 4492150, 20222240, 23036087, 64631595, 84402966], [647500, 144000, 47000, 5770, 678500, 181040, 9596960, 15007, 1092, 3287590, 1919440, 1648000, 377835, 120540, 98480, 236800, 28, 329750, 300, 1564116, 147181, 803940, 300000, 693, 65610, 35980, 514000, 329560]]}, \"header\": {\"align\": \"left\", \"values\": [\"Country\", \"Population\", \"Area (sq. mi.)\"]}, \"visible\": true, \"type\": \"table\", \"uid\": \"ce9db1fe-bb88-4817-889b-46a60bb9cb5a\"}, {\"cells\": {\"align\": \"left\", \"values\": [[\"Albania \", \"Bosnia & Herzegovina \", \"Bulgaria \", \"Croatia \", \"Czech Republic \", \"Hungary \", \"Macedonia \", \"Poland \", \"Romania \", \"Serbia \", \"Slovakia \", \"Slovenia \"], [3581655, 4498976, 7385367, 4494749, 10235455, 9981334, 2050554, 38536869, 22303552, 9396411, 5439448, 2010347], [28748, 51129, 110910, 56542, 78866, 93030, 25333, 312685, 237500, 88361, 48845, 20273]]}, \"header\": {\"align\": \"left\", \"values\": [\"Country\", \"Population\", \"Area (sq. mi.)\"]}, \"visible\": false, \"type\": \"table\", \"uid\": \"98e84c51-8002-4dee-bd86-688aa54a00ed\"}, {\"cells\": {\"align\": \"left\", \"values\": [[\"Algeria \", \"Egypt \", \"Libya \", \"Morocco \", \"Tunisia \", \"Western Sahara \"], [32930091, 78887007, 5900754, 33241259, 10175014, 273008], [2381740, 1001450, 1759540, 446550, 163610, 266000]]}, \"header\": {\"align\": \"left\", \"values\": [\"Country\", \"Population\", \"Area (sq. mi.)\"]}, \"visible\": false, \"type\": \"table\", \"uid\": \"b7f28655-b000-40f5-86fe-cb0f3cd77f0b\"}, {\"cells\": {\"align\": \"left\", \"values\": [[\"American Samoa \", \"Australia \", \"Cook Islands \", \"Fiji \", \"French Polynesia \", \"Guam \", \"Kiribati \", \"Marshall Islands \", \"Micronesia, Fed. St. \", \"Nauru \", \"New Caledonia \", \"New Zealand \", \"N. Mariana Islands \", \"Palau \", \"Papua New Guinea \", \"Samoa \", \"Solomon Islands \", \"Tonga \", \"Tuvalu \", \"Vanuatu \", \"Wallis and Futuna \"], [57794, 20264082, 21388, 905949, 274578, 171019, 105432, 60422, 108004, 13287, 219246, 4076140, 82459, 20579, 5670544, 176908, 552438, 114689, 11810, 208869, 16025], [199, 7686850, 240, 18270, 4167, 541, 811, 11854, 702, 21, 19060, 268680, 477, 458, 462840, 2944, 28450, 748, 26, 12200, 274]]}, \"header\": {\"align\": \"left\", \"values\": [\"Country\", \"Population\", \"Area (sq. mi.)\"]}, \"visible\": false, \"type\": \"table\", \"uid\": \"eab105c5-b0f7-4632-b609-0ac8ce5cd5e9\"}, {\"cells\": {\"align\": \"left\", \"values\": [[\"Andorra \", \"Austria \", \"Belgium \", \"Denmark \", \"Faroe Islands \", \"Finland \", \"France \", \"Germany \", \"Gibraltar \", \"Greece \", \"Guernsey \", \"Iceland \", \"Ireland \", \"Isle of Man \", \"Italy \", \"Jersey \", \"Liechtenstein \", \"Luxembourg \", \"Malta \", \"Monaco \", \"Netherlands \", \"Norway \", \"Portugal \", \"San Marino \", \"Spain \", \"Sweden \", \"Switzerland \", \"United Kingdom \"], [71201, 8192880, 10379067, 5450661, 47246, 5231372, 60876136, 82422299, 27928, 10688058, 65409, 299388, 4062235, 75441, 58133509, 91084, 33987, 474413, 400214, 32543, 16491461, 4610820, 10605870, 29251, 40397842, 9016596, 7523934, 60609153], [468, 83870, 30528, 43094, 1399, 338145, 547030, 357021, 7, 131940, 78, 103000, 70280, 572, 301230, 116, 160, 2586, 316, 2, 41526, 323802, 92391, 61, 504782, 449964, 41290, 244820]]}, \"header\": {\"align\": \"left\", \"values\": [\"Country\", \"Population\", \"Area (sq. mi.)\"]}, \"visible\": false, \"type\": \"table\", \"uid\": \"6db145db-7b7e-411d-84e0-bc4a2531423e\"}, {\"cells\": {\"align\": \"left\", \"values\": [[\"Angola \", \"Benin \", \"Botswana \", \"Burkina Faso \", \"Burundi \", \"Cameroon \", \"Cape Verde \", \"Central African Rep. \", \"Chad \", \"Comoros \", \"Congo, Dem. Rep. \", \"Congo, Repub. of the \", \"Cote d'Ivoire \", \"Djibouti \", \"Equatorial Guinea \", \"Eritrea \", \"Ethiopia \", \"Gabon \", \"Gambia, The \", \"Ghana \", \"Guinea \", \"Guinea-Bissau \", \"Kenya \", \"Lesotho \", \"Liberia \", \"Madagascar \", \"Malawi \", \"Mali \", \"Mauritania \", \"Mauritius \", \"Mayotte \", \"Mozambique \", \"Namibia \", \"Niger \", \"Nigeria \", \"Reunion \", \"Rwanda \", \"Saint Helena \", \"Sao Tome & Principe \", \"Senegal \", \"Seychelles \", \"Sierra Leone \", \"Somalia \", \"South Africa \", \"Sudan \", \"Swaziland \", \"Tanzania \", \"Togo \", \"Uganda \", \"Zambia \", \"Zimbabwe \"], [12127071, 7862944, 1639833, 13902972, 8090068, 17340702, 420979, 4303356, 9944201, 690948, 62660551, 3702314, 17654843, 486530, 540109, 4786994, 74777981, 1424906, 1641564, 22409572, 9690222, 1442029, 34707817, 2022331, 3042004, 18595469, 13013926, 11716829, 3177388, 1240827, 201234, 19686505, 2044147, 12525094, 131859731, 787584, 8648248, 7502, 193413, 11987121, 81541, 6005250, 8863338, 44187637, 41236378, 1136334, 37445392, 5548702, 28195754, 11502010, 12236805], [1246700, 112620, 600370, 274200, 27830, 475440, 4033, 622984, 1284000, 2170, 2345410, 342000, 322460, 23000, 28051, 121320, 1127127, 267667, 11300, 239460, 245857, 36120, 582650, 30355, 111370, 587040, 118480, 1240000, 1030700, 2040, 374, 801590, 825418, 1267000, 923768, 2517, 26338, 413, 1001, 196190, 455, 71740, 637657, 1219912, 2505810, 17363, 945087, 56785, 236040, 752614, 390580]]}, \"header\": {\"align\": \"left\", \"values\": [\"Country\", \"Population\", \"Area (sq. mi.)\"]}, \"visible\": false, \"type\": \"table\", \"uid\": \"5870ba24-624c-440f-9439-2924188a3f1f\"}, {\"cells\": {\"align\": \"left\", \"values\": [[\"Anguilla \", \"Antigua & Barbuda \", \"Argentina \", \"Aruba \", \"Bahamas, The \", \"Barbados \", \"Belize \", \"Bolivia \", \"Brazil \", \"British Virgin Is. \", \"Cayman Islands \", \"Chile \", \"Colombia \", \"Costa Rica \", \"Cuba \", \"Dominica \", \"Dominican Republic \", \"Ecuador \", \"El Salvador \", \"French Guiana \", \"Grenada \", \"Guadeloupe \", \"Guatemala \", \"Guyana \", \"Haiti \", \"Honduras \", \"Jamaica \", \"Martinique \", \"Mexico \", \"Montserrat \", \"Netherlands Antilles \", \"Nicaragua \", \"Panama \", \"Paraguay \", \"Peru \", \"Puerto Rico \", \"Saint Kitts & Nevis \", \"Saint Lucia \", \"Saint Vincent and the Grenadines \", \"Suriname \", \"Trinidad & Tobago \", \"Turks & Caicos Is \", \"Uruguay \", \"Venezuela \", \"Virgin Islands \"], [13477, 69108, 39921833, 71891, 303770, 279912, 287730, 8989046, 188078227, 23098, 45436, 16134219, 43593035, 4075261, 11382820, 68910, 9183984, 13547510, 6822378, 199509, 89703, 452776, 12293545, 767245, 8308504, 7326496, 2758124, 436131, 107449525, 9439, 221736, 5570129, 3191319, 6506464, 28302603, 3927188, 39129, 168458, 117848, 439117, 1065842, 21152, 3431932, 25730435, 108605], [102, 443, 2766890, 193, 13940, 431, 22966, 1098580, 8511965, 153, 262, 756950, 1138910, 51100, 110860, 754, 48730, 283560, 21040, 91000, 344, 1780, 108890, 214970, 27750, 112090, 10991, 1100, 1972550, 102, 960, 129494, 78200, 406750, 1285220, 13790, 261, 616, 389, 163270, 5128, 430, 176220, 912050, 1910]]}, \"header\": {\"align\": \"left\", \"values\": [\"Country\", \"Population\", \"Area (sq. mi.)\"]}, \"visible\": false, \"type\": \"table\", \"uid\": \"6a8a2ea4-65f7-4b47-8bbe-786c575bade6\"}, {\"cells\": {\"align\": \"left\", \"values\": [[\"Armenia \", \"Azerbaijan \", \"Belarus \", \"Georgia \", \"Kazakhstan \", \"Kyrgyzstan \", \"Moldova \", \"Russia \", \"Tajikistan \", \"Turkmenistan \", \"Ukraine \", \"Uzbekistan \"], [2976372, 7961619, 10293011, 4661473, 15233244, 5213898, 4466706, 142893540, 7320815, 5042920, 46710816, 27307134], [29800, 86600, 207600, 69700, 2717300, 198500, 33843, 17075200, 143100, 488100, 603700, 447400]]}, \"header\": {\"align\": \"left\", \"values\": [\"Country\", \"Population\", \"Area (sq. mi.)\"]}, \"visible\": false, \"type\": \"table\", \"uid\": \"2cf2d044-804e-41fc-b262-75b99ef9fede\"}, {\"cells\": {\"align\": \"left\", \"values\": [[\"Bahrain \", \"Cyprus \", \"Gaza Strip \", \"Iraq \", \"Israel \", \"Jordan \", \"Kuwait \", \"Lebanon \", \"Oman \", \"Qatar \", \"Saudi Arabia \", \"Syria \", \"Turkey \", \"United Arab Emirates \", \"West Bank \", \"Yemen \"], [698585, 784301, 1428757, 26783383, 6352117, 5906760, 2418393, 3874050, 3102229, 885359, 27019731, 18881361, 70413958, 2602713, 2460492, 21456188], [665, 9250, 360, 437072, 20770, 92300, 17820, 10400, 212460, 11437, 1960582, 185180, 780580, 82880, 5860, 527970]]}, \"header\": {\"align\": \"left\", \"values\": [\"Country\", \"Population\", \"Area (sq. mi.)\"]}, \"visible\": false, \"type\": \"table\", \"uid\": \"f6c30ab3-9a4e-4661-8afc-2ba79a3b454d\"}, {\"cells\": {\"align\": \"left\", \"values\": [[\"Bermuda \", \"Canada \", \"Greenland \", \"St Pierre & Miquelon \", \"United States \"], [65773, 33098932, 56361, 7026, 298444215], [53, 9984670, 2166086, 242, 9631420]]}, \"header\": {\"align\": \"left\", \"values\": [\"Country\", \"Population\", \"Area (sq. mi.)\"]}, \"visible\": false, \"type\": \"table\", \"uid\": \"5f5590b8-3758-43a2-a3dd-fc3c1ece0b5a\"}, {\"cells\": {\"align\": \"left\", \"values\": [[\"Estonia \", \"Latvia \", \"Lithuania \"], [1324333, 2274735, 3585906], [45226, 64589, 65200]]}, \"header\": {\"align\": \"left\", \"values\": [\"Country\", \"Population\", \"Area (sq. mi.)\"]}, \"visible\": false, \"type\": \"table\", \"uid\": \"911de703-626a-485c-b163-443dd6aa9f20\"}], {\"height\": 800, \"updatemenus\": [{\"active\": 0, \"buttons\": [{\"args\": [{\"visible\": [true, false, false, false, false, false, false, false, false, false, false]}], \"label\": \"ASIA (EX. NEAR EAST)\", \"method\": \"update\"}, {\"args\": [{\"visible\": [false, true, false, false, false, false, false, false, false, false, false]}], \"label\": \"EASTERN EUROPE\", \"method\": \"update\"}, {\"args\": [{\"visible\": [false, false, true, false, false, false, false, false, false, false, false]}], \"label\": \"NORTHERN AFRICA\", \"method\": \"update\"}, {\"args\": [{\"visible\": [false, false, false, true, false, false, false, false, false, false, false]}], \"label\": \"OCEANIA\", \"method\": \"update\"}, {\"args\": [{\"visible\": [false, false, false, false, true, false, false, false, false, false, false]}], \"label\": \"WESTERN EUROPE\", \"method\": \"update\"}, {\"args\": [{\"visible\": [false, false, false, false, false, true, false, false, false, false, false]}], \"label\": \"SUB-SAHARAN AFRICA\", \"method\": \"update\"}, {\"args\": [{\"visible\": [false, false, false, false, false, false, true, false, false, false, false]}], \"label\": \"LATIN AMER. & CARIB\", \"method\": \"update\"}, {\"args\": [{\"visible\": [false, false, false, false, false, false, false, true, false, false, false]}], \"label\": \"C.W. OF IND. STATES\", \"method\": \"update\"}, {\"args\": [{\"visible\": [false, false, false, false, false, false, false, false, true, false, false]}], \"label\": \"NEAR EAST\", \"method\": \"update\"}, {\"args\": [{\"visible\": [false, false, false, false, false, false, false, false, false, true, false]}], \"label\": \"NORTHERN AMERICA\", \"method\": \"update\"}, {\"args\": [{\"visible\": [false, false, false, false, false, false, false, false, false, false, true]}], \"label\": \"BALTICS\", \"method\": \"update\"}], \"x\": 0.9, \"y\": 1.2}]}, {\"showLink\": true, \"linkText\": \"Export to plot.ly\", \"plotlyServerURL\": \"https://plot.ly\"})});</script><script type=\"text/javascript\">window.addEventListener(\"resize\", function(){window._Plotly.Plots.resize(document.getElementById(\"d75e3536-2545-4339-8c2d-ddce32534d61\"));});</script>"
      ]
     },
     "metadata": {},
     "output_type": "display_data"
    }
   ],
   "source": [
    "iplot(TableFig)"
   ]
  },
  {
   "cell_type": "code",
   "execution_count": null,
   "metadata": {},
   "outputs": [],
   "source": []
  }
 ],
 "metadata": {
  "kernelspec": {
   "display_name": "Python (mlenv)",
   "language": "python",
   "name": "mlenv"
  },
  "language_info": {
   "codemirror_mode": {
    "name": "ipython",
    "version": 3
   },
   "file_extension": ".py",
   "mimetype": "text/x-python",
   "name": "python",
   "nbconvert_exporter": "python",
   "pygments_lexer": "ipython3",
   "version": "3.6.7"
  }
 },
 "nbformat": 4,
 "nbformat_minor": 2
}
